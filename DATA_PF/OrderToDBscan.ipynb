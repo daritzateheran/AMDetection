{
 "cells": [
  {
   "cell_type": "code",
   "execution_count": 3,
   "id": "133627fc",
   "metadata": {},
   "outputs": [
    {
     "name": "stdout",
     "output_type": "stream",
     "text": [
      "d:\\Documentos\\GitHub\\AMDetection\\DATA_PF\n"
     ]
    }
   ],
   "source": [
    "import os\n",
    "import glob\n",
    "import pandas as pd\n",
    "import numpy as np\n",
    "from sklearn.cluster import DBSCAN\n",
    "\n",
    "print(os.getcwd())\n",
    "path=[r\"D:Blow_nose\",r\"D:Brush_hair\", r\"D:Brush_teeth\", r\"Drink_water\",r\"Dusting\",r\"Eat_meal\",r\"Ironing\", r\"Open_a_bottle\", r\"Open_a_box\",r\"Phone_call\",r\"Put_on_a_jacket\",r\"Put_on_a_shoe\",r\"Put_on_glasses\",r\"Salute\",r\"Sit_down\",r\"Sneeze_cough\",r\"Stand_up\",r\"Take_off_a_jacket\",r\"Take_off_a_shoe\",r\"Take_off_glasses\",r\"Type_on_a_keyboard\",r\"Whasing_dishes\",r\"Whasing_hands\",r\"Wrinting\" ]\n",
    "df = pd.DataFrame()\n",
    "k = 0\n",
    "#os.getcwd()"
   ]
  },
  {
   "cell_type": "code",
   "execution_count": null,
   "id": "73b94b34",
   "metadata": {},
   "outputs": [],
   "source": [
    "for p in path:\n",
    "    os.chdir(r\"d:\\Documentos\\GitHub\\AMDetection\\DATA_PF\")\n",
    "    os.chdir(p)\n",
    "    file_extension = '.csv'\n",
    "    all_filenames = [i for i in glob.glob(f\"*{file_extension}\")]\n",
    "    for f in all_filenames:\n",
    "        temp = pd.read_csv(f, names=['x', 'y', 'z'])\n",
    "        temp['sample'] = k\n",
    "        temp['activity'] = f'{p[2:]}'\n",
    "        df = df.append([temp], ignore_index=True)\n",
    "        k = k + 1\n",
    "#print(combined_csv_data)\n",
    "#combined_csv_data.values\n",
    "V=[]\n",
    "for i in range(k):\n",
    "    # index = combined_csv_data.loc[:,\"sample\"] == k\n",
    "    # df_zero = combined_csv_data.loc[index]\n",
    "    #V[k]=V[k].append(df_zero)\n",
    "    #sp = combined_csv_data.loc[(combined_csv_data[\"sample\"] == i), [\"x\",\"y\",\"z\", \"sample\"]]\n",
    "    #s_temp=sp.values\n",
    "    # temp=sp.to_numpy()\n",
    "    sp = df[df['sample']==i]\n",
    "    sp = sp.drop(['activity'], axis=1)\n",
    "    sp.describe\n",
    "    V.append(sp.values)\n",
    "print(V)\n",
    "    # names=df.columns\n",
    "#os.chdir(r\"D:\\Documentos\\NOVENO SEMESTRE\\Pf\\Empatica_Dataset\\Datap\")\n",
    "#combined_csv_data.to_csv(\"prueba.csv\")\n",
    "    #combined_csv_data.to_csv('combined2.csv')\n",
    "#db = DBSCAN(eps=0.3, min_samples=10).fit(V)\n"
   ]
  }
 ],
 "metadata": {
  "kernelspec": {
   "display_name": "Python 3 (ipykernel)",
   "language": "python",
   "name": "python3"
  },
  "language_info": {
   "codemirror_mode": {
    "name": "ipython",
    "version": 3
   },
   "file_extension": ".py",
   "mimetype": "text/x-python",
   "name": "python",
   "nbconvert_exporter": "python",
   "pygments_lexer": "ipython3",
   "version": "3.9.5"
  }
 },
 "nbformat": 4,
 "nbformat_minor": 5
}
