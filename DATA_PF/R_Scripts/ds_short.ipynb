{
 "cells": [
  {
   "cell_type": "code",
   "execution_count": 10,
   "metadata": {},
   "outputs": [],
   "source": [
    "import numpy as np\n",
    "from sklearn.cluster import DBSCAN\n",
    "from sklearn.preprocessing import StandardScaler\n",
    "import pandas as pd\n",
    "import numpy as np"
   ]
  },
  {
   "cell_type": "code",
   "execution_count": 15,
   "metadata": {},
   "outputs": [
    {
     "name": "stdout",
     "output_type": "stream",
     "text": [
      "[[0, 0, 0, 0, 0, 0, 1, 1, 1, 1, 0, 1, 0, 1, 0, 0, 1, 0, 0, 0, 1, 0, 1, 0, 1, 1, 0, 1, 0, 0, 1, 0, 0, 0, 0, 1, 1, 0, 1, 1, 0, 0, 1, 1, 0], [0, 0, 0, 0, 0, 0, 1, 1, 1, 1, 0, 1, 0, 1, 0, 0, 1, 0, 0, 0, 1, 0, 1, 0, 1, 1, 0, 1, 0, 0, 1, 0, 0, 0, 0, 1, 1, 0, 1, 1, 0, 0, 1, 1, 0], [0, 0, 0, 0, 0, 0, 1, 1, 1, 1, 0, 1, 0, 1, 0, 0, 1, 0, 0, 0, 1, 0, 1, 0, 1, 1, 0, 1, 0, 0, 1, 0, 0, 0, 0, 1, 1, 0, 1, 1, 0, 1, 1, 1, 1]]\n",
      " 0    2\n",
      "-1    1\n",
      "Name: labels, dtype: int64\n",
      "0    0\n",
      "1    0\n",
      "2   -1\n",
      "Name: labels, dtype: int64\n"
     ]
    }
   ],
   "source": [
    "#correr\n",
    "x = [0,0,0,0,0,0,1,1,1,1,0,1,0,1,0]\n",
    "y = [0,1,0,0,0,1,0,1,0,1,1,0,1,0,0]\n",
    "z = [1,0,0,0,0,1,1,0,1,1,0,0,1,1,0]\n",
    "\n",
    "#correr\n",
    "x1 = [0,0,0,1,0,0,1,1,1,1,0,1,0,1,0]\n",
    "y1 = [0,1,0,0,0,1,0,1,0,1,1,0,1,0,0]\n",
    "z1 = [1,0,0,0,0,1,1,0,1,1,0,0,1,1,0]\n",
    "\n",
    "#correr\n",
    "x2 = [0,0,0,0,0,0,1,1,1,1,0,1,0,1,0]\n",
    "y2 = [0,1,0,0,0,1,0,1,0,1,1,0,1,0,0]\n",
    "z2 = [1,0,0,0,0,1,1,0,1,1,0,1,1,1,1]\n",
    "\n",
    "v=[(x+y+z),(x1+y1+z1),(x2+y2+z2)]\n",
    "print(v)\n",
    "X = StandardScaler().fit_transform(v)\n",
    "\n",
    "#print(X)\n",
    "db = DBSCAN(eps=1, min_samples=2).fit(v)\n",
    "r=pd.DataFrame()\n",
    "r[\"labels\"] = db.labels_\n",
    "print(r[\"labels\"].value_counts())\n",
    "print(r[\"labels\"])\n"
   ]
  }
 ],
 "metadata": {
  "interpreter": {
   "hash": "ac59ebe37160ed0dfa835113d9b8498d9f09ceb179beaac4002f036b9467c963"
  },
  "kernelspec": {
   "display_name": "Python 3.9.5 64-bit",
   "language": "python",
   "name": "python3"
  },
  "language_info": {
   "codemirror_mode": {
    "name": "ipython",
    "version": 3
   },
   "file_extension": ".py",
   "mimetype": "text/x-python",
   "name": "python",
   "nbconvert_exporter": "python",
   "pygments_lexer": "ipython3",
   "version": "3.9.5"
  },
  "orig_nbformat": 4
 },
 "nbformat": 4,
 "nbformat_minor": 2
}
