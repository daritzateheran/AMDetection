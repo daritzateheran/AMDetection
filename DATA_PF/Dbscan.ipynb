{
 "cells": [
  {
   "cell_type": "code",
   "execution_count": null,
   "metadata": {},
   "outputs": [],
   "source": [
    "#Importar posibles librerias\n",
    "import os\n",
    "import glob\n",
    "import pandas as pd\n",
    "import numpy as np\n",
    "import matplotlib.pyplot as plt\n",
    "import numpy as np\n",
    "from sklearn.cluster import DBSCAN\n",
    "from sklearn.preprocessing import StandardScaler\n",
    "from dotenv import load_dotenv \n",
    "import seaborn as sns"
   ]
  },
  {
   "cell_type": "code",
   "execution_count": null,
   "metadata": {},
   "outputs": [],
   "source": [
    "#path=[r\"C:Blow_nose\",r\"C:Brush_hair\", r\"C:Drink_water\"]\n",
    "load_dotenv()\n",
    "name=os.getenv('NAME_')\n",
    "name=name.split(\",\")\n",
    "df = pd.DataFrame()\n",
    "k = 0\n",
    "#os.getcwd()"
   ]
  },
  {
   "cell_type": "markdown",
   "metadata": {},
   "source": [
    "Path es una lista con los nombres de las carpetas con las actividades y debe colocarse el nombre del disco donde se almacena + : + nombre de la actividad. \n",
    "\n",
    "Ejemplo: \n",
    "\n",
    "path=[r\"D:Blow_nose\",r\"D:Brush_hair\", r\"D:Brush_teeth\", r\"Drink_water\",r\"Dusting\",r\"Eat_meal\",r\"Ironing\", r\"Open_a_bottle\", r\"Open_a_box\",r\"Phone_call\",r\"Put_on_a_jacket\",r\"Put_on_a_shoe\",r\"Put_on_glasses\",r\"Salute\",r\"Sit_down\",r\"Sneeze_cough\",r\"Stand_up\",r\"Take_off_a_jacket\",r\"Take_off_a_shoe\",r\"Take_off_glasses\",r\"Type_on_a_keyboard\",r\"Whasing_dishes\",r\"Whasing_hands\",r\"Wrinting\" ]"
   ]
  },
  {
   "cell_type": "code",
   "execution_count": null,
   "metadata": {},
   "outputs": [],
   "source": [
    "#Ejemplo ingresando el vector: array[(array[(x,y,z), (x,y,z)...], array[(x,y,z), (x,y,z)...], array[(x,y,z), (x,y,z)...] ...)]\n",
    "\n",
    "#  path=os.getenv('PATH_')\n",
    "# for p in name:\n",
    "#     os.chdir(path)\n",
    "#     os.chdir(p)\n",
    "#     file_extension = '.csv'\n",
    "#     all_filenames = [i for i in glob.glob(f\"*{file_extension}\")]\n",
    "#     for f in all_filenames:\n",
    "#         temp = pd.read_csv(f, names=['x', 'y', 'z'])\n",
    "#         temp['sample'] = k\n",
    "#         temp['activity'] = f'{p[2:]}'\n",
    "#         temp['filename'] = f'{f}'\n",
    "#         #temp=temp[0:30]s\n",
    "#         df = df.append([temp], ignore_index=True)\n",
    "#         k = k + 1\n",
    "   \n"
   ]
  },
  {
   "cell_type": "code",
   "execution_count": null,
   "metadata": {},
   "outputs": [],
   "source": [
    "df"
   ]
  },
  {
   "cell_type": "code",
   "execution_count": null,
   "metadata": {},
   "outputs": [],
   "source": [
    "\n",
    "# V=list()\n",
    "# for r in range(k):\n",
    "#     sp = df[df['sample']==r]\n",
    "#     #\n",
    "#     sp = sp.drop(['activity',\"sample\",\"filename\"], axis=1)\n",
    "#     values=sp.values\n",
    "#     V.append(values)\n",
    "# #final_seq = np.stack(V)\n",
    "# print(V)\n"
   ]
  },
  {
   "cell_type": "markdown",
   "metadata": {},
   "source": [
    "[((x,x,x,x),(y,y,y,y),(z,z,z,z)),((x,x,x,x),(y,y,y,y),(z,z,z,z)),((x,x,x,x),(y,y,y,y),(z,z,z,z)) ...]"
   ]
  },
  {
   "cell_type": "code",
   "execution_count": null,
   "metadata": {},
   "outputs": [],
   "source": [
    "path=os.getenv('PATH_')\n",
    "for p in name:\n",
    "    os.chdir(path)\n",
    "    os.chdir(p)\n",
    "    file_extension = '.csv'\n",
    "    all_filenames = [i for i in glob.glob(f\"*{file_extension}\")]\n",
    "    for f in all_filenames:\n",
    "        temp = pd.read_csv(f, names=['x', 'y', 'z'])\n",
    "        temp['sample'] = k\n",
    "        temp['activity'] = f'{p[2:]}'\n",
    "        temp['filename'] = f'{f}'\n",
    "        #temp=temp[0:30]s\n",
    "        df = df.append([temp], ignore_index=True)\n",
    "        k = k + 1\n"
   ]
  },
  {
   "cell_type": "code",
   "execution_count": null,
   "metadata": {},
   "outputs": [],
   "source": [
    "#print(df)        \n",
    "v_=[]\n",
    "V =[]\n",
    "for r in range(4):\n",
    "    sp = df[df['sample']==r]\n",
    "    #sp = sp.drop(['activity',\"sample\",\"filename\",\"y\",\"z\"], axis=1)\n",
    "    x = sp[\"x\"]\n",
    "    y = sp[\"y\"]\n",
    "    z = sp[\"z\"]\n",
    "    v_.append(x.values)\n",
    "    v_.append(y.values)\n",
    "    v_.append(z.values)\n",
    "    V.append(v_)\n",
    "print(V)\n",
    "\n",
    "    \n",
    " \n",
    "final_seq = np.stack(V)\n"
   ]
  },
  {
   "cell_type": "code",
   "execution_count": 46,
   "metadata": {},
   "outputs": [
    {
     "name": "stdout",
     "output_type": "stream",
     "text": [
      "([0, 0, 0, 0, 0, 0, 1, 1, 1, 1, 0, 1, 0, 1, 0, 0, 1, 0, 0, 0, 1, 0, 1, 0, 1, 1, 0, 1, 0, 0, 1, 0, 0, 0, 0, 1, 1, 0, 1, 1, 0, 0, 1, 1, 0], [1, 0, 0, 0, 0, 1, 1, 0, 1, 1, 0, 0, 1, 1, 0, 0, 1, 0, 0, 0, 1, 0, 1, 0, 1, 1, 0, 1, 0, 0, 0, 0, 0, 0, 0, 0, 1, 1, 1, 1, 0, 1, 0, 1, 0], [0, 0, 0, 0, 0, 0, 1, 1, 1, 1, 0, 1, 0, 1, 0, 0, 1, 0, 0, 0, 1, 0, 1, 0, 1, 1, 0, 1, 0, 0, 1, 0, 0, 0, 0, 1, 1, 0, 1, 1, 0, 0, 1, 1, 0], [1, 0, 0, 0, 0, 1, 1, 0, 1, 1, 0, 0, 1, 1, 0, 0, 1, 0, 0, 0, 1, 0, 1, 0, 1, 1, 0, 1, 0, 0, 0, 0, 0, 0, 0, 0, 1, 1, 1, 1, 0, 1, 0, 1, 0], [0, 0, 0, 0, 0, 0, 1, 1, 1, 1, 0, 1, 0, 1, 0, 0, 1, 0, 0, 0, 1, 0, 1, 0, 1, 1, 0, 1, 0, 0, 0, 0, 0, 0, 0, 0, 1, 1, 1, 1, 0, 1, 0, 1, 0], [0, 0, 0, 0, 0, 0, 1, 1, 1, 1, 0, 1, 0, 1, 0, 0, 1, 0, 0, 0, 1, 0, 1, 0, 1, 1, 0, 1, 0, 0, 0, 0, 0, 0, 0, 0, 1, 1, 1, 1, 0, 1, 0, 1, 0], [0, 1, 0, 0, 0, 1, 0, 1, 0, 1, 1, 0, 1, 0, 0, 0, 1, 0, 0, 0, 1, 0, 1, 0, 1, 1, 0, 1, 0, 0, 1, 0, 0, 0, 0, 1, 1, 0, 1, 1, 0, 0, 1, 1, 0], [1, 0, 0, 0, 0, 1, 1, 0, 1, 1, 0, 0, 1, 1, 0, 0, 1, 0, 0, 0, 1, 0, 1, 0, 1, 1, 0, 1, 0, 0, 0, 0, 0, 0, 0, 0, 1, 1, 1, 1, 0, 1, 0, 1, 0])\n",
      " 1    3\n",
      " 0    2\n",
      " 2    2\n",
      "-1    1\n",
      "Name: labels, dtype: int64\n",
      "0    0\n",
      "1    1\n",
      "2    0\n",
      "3    1\n",
      "4    2\n",
      "5    2\n",
      "6   -1\n",
      "7    1\n",
      "Name: labels, dtype: int64\n"
     ]
    }
   ],
   "source": [
    "#Vt=[]\n",
    "#v=[]\n",
    "#m = pd.DataFrame()\n",
    "# for i in range(5):\n",
    "#     x = (0,0,0,0,0,0,1,1,1,1,0,1,0,1,0)\n",
    "#     y = (0,1,0,0,0,1,0,1,0,1,1,0,1,0,0)\n",
    "#     z = (1,0,0,0,0,1,1,0,1,1,0,0,1,1,0)\n",
    "#     m[\"x\"] = x\n",
    "#     m[\"y\"] = y\n",
    "#     m[\"z\"] = z\n",
    "#     m[\"caracter\"]=i\n",
    "#     df = df.append([m], ignore_index=True)\n",
    "\n",
    "# for j in range(5):\n",
    "#     x = (3,3,4,5,4,4,5,4,3,4,5,4,5,3,4)\n",
    "#     y = (0,1,0,0,0,1,0,1,0,1,1,0,1,0,0)\n",
    "#     z = (1,0,0,0,0,1,1,0,1,1,0,0,1,1,0)\n",
    "#     m[\"x\"] = x\n",
    "#     m[\"y\"] = y\n",
    "#     m[\"z\"] = z\n",
    "#     m[\"caracter\"]=i\n",
    "#     df = df.append([m], ignore_index=True)\n",
    "# Vt.append(x)\n",
    "# Vt.append(y)\n",
    "# Vt.append(z)}\n",
    "#X=[(x,y,z),(x,y,z)]\n",
    "#print(df)\n",
    "# # for i in range(4):\n",
    "# # #      v.append\n",
    "\n",
    "x = [0,0,0,0,0,0,1,1,1,1,0,1,0,1,0]\n",
    "y = [0,1,0,0,0,1,0,1,0,1,1,0,1,0,0]\n",
    "z = [1,0,0,0,0,1,1,0,1,1,0,0,1,1,0]\n",
    "\n",
    "#x.append(y)\n",
    "v=((x+y+z),(z+y+x),(x+y+z),(z+y+x),(x+y+x),(x+y+x),(y+y+z),(z+y+x))\n",
    "print(v)\n",
    "X = StandardScaler().fit_transform(v)\n",
    "#print(X)\n",
    "db = DBSCAN(eps=1, min_samples=2).fit(v)\n",
    "r=pd.DataFrame()\n",
    "r[\"labels\"] = db.labels_\n",
    "print(r[\"labels\"].value_counts())\n",
    "print(r[\"labels\"])\n",
    "\n"
   ]
  },
  {
   "cell_type": "code",
   "execution_count": null,
   "metadata": {},
   "outputs": [],
   "source": [
    "len_V = []\n",
    "for one_V in V:\n",
    "    len_V.append(len(one_V))\n",
    "l=pd.Series(len_V)\n",
    "l.describe()\n",
    "#Conclusión las muestras no tienen el mismo tamaño se vuelve loco?"
   ]
  },
  {
   "cell_type": "code",
   "execution_count": null,
   "metadata": {},
   "outputs": [],
   "source": [
    "\n",
    "final_seq = np.stack(V)\n"
   ]
  },
  {
   "cell_type": "code",
   "execution_count": null,
   "metadata": {},
   "outputs": [],
   "source": [
    "X = StandardScaler().fit_transform(final_seq)\n",
    "db = DBSCAN(eps=0.5, min_samples=20).fit(final_seq)"
   ]
  },
  {
   "cell_type": "markdown",
   "metadata": {},
   "source": [
    "Azul z\n",
    "rojo x\n",
    "verde y"
   ]
  },
  {
   "cell_type": "code",
   "execution_count": null,
   "metadata": {},
   "outputs": [],
   "source": [
    "for p in name:\n",
    "    os.chdir(path)\n",
    "    os.chdir(p)\n",
    "    file_extension = '.csv'\n",
    "    all_filenames = [i_ for i_ in glob.glob(f\"*{file_extension}\")]\n",
    "    for f in all_filenames:\n",
    "        #for i in [‘Walking’, ‘Jogging’, ‘Upstairs’, ‘Downstairs’, ‘Sitting’, ‘Standing’]:\n",
    "        temp = pd.read_csv(f, names=['x', 'y', 'z'])\n",
    "        #data = temp[['x-axis', 'y-axis', 'z-axis']]\n",
    "        axis = temp[\"x\"].plot(subplots=True, color=\"b\", fontsize = 12)\n",
    "        axis = temp[\"y\"].plot(subplots=True, color=\"r\", fontsize = 12)\n",
    "        axis = temp[\"z\"].plot(subplots=True, color=\"g\", fontsize = 12)\n",
    "    break"
   ]
  },
  {
   "cell_type": "code",
   "execution_count": null,
   "metadata": {},
   "outputs": [],
   "source": [
    "path=os.getenv('PATH_')\n",
    "def path_(p):\n",
    "    os.chdir(path)\n",
    "    os.chdir(p)\n",
    "    file_extension = '.csv'\n",
    "    all_filenames = [i for i in glob.glob(f\"*{file_extension}\")]\n",
    "    for f in all_filenames:\n",
    "        temp = pd.read_csv(f, names=['x', 'y', 'z'])\n",
    "        axis = temp[\"x\"].plot(subplots=True, color=\"b\", fontsize = 12)\n",
    "        axis = temp[\"y\"].plot(subplots=True, color=\"r\", fontsize = 12)\n",
    "        axis = temp[\"z\"].plot(subplots=True, color=\"g\", fontsize = 12)\n",
    "        #axis.set_title(p)\n",
    "\n",
    "\n",
    "path_('D:Sit_down')\n",
    "# path_('D:Brush_hair')\n",
    "# path_('D:Phone_call')\n",
    "# path_('D:Salute')"
   ]
  }
 ],
 "metadata": {
  "interpreter": {
   "hash": "f42e215734c63c6d245e49a73921e3408e783faf6a42989b31c4a66ab50ad541"
  },
  "kernelspec": {
   "display_name": "Python 3.10.0 64-bit",
   "language": "python",
   "name": "python3"
  },
  "language_info": {
   "codemirror_mode": {
    "name": "ipython",
    "version": 3
   },
   "file_extension": ".py",
   "mimetype": "text/x-python",
   "name": "python",
   "nbconvert_exporter": "python",
   "pygments_lexer": "ipython3",
   "version": "3.9.5"
  },
  "orig_nbformat": 4
 },
 "nbformat": 4,
 "nbformat_minor": 2
}
