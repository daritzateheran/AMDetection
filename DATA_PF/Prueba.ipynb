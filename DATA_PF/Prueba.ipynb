{
 "cells": [
  {
   "cell_type": "code",
   "execution_count": 13,
   "metadata": {},
   "outputs": [
    {
     "ename": "AttributeError",
     "evalue": "'list' object has no attribute 'split'",
     "output_type": "error",
     "traceback": [
      "\u001b[1;31m---------------------------------------------------------------------------\u001b[0m",
      "\u001b[1;31mAttributeError\u001b[0m                            Traceback (most recent call last)",
      "Input \u001b[1;32mIn [13]\u001b[0m, in \u001b[0;36m<cell line: 15>\u001b[1;34m()\u001b[0m\n\u001b[0;32m     13\u001b[0m k \u001b[38;5;241m=\u001b[39m \u001b[38;5;241m0\u001b[39m\n\u001b[0;32m     14\u001b[0m \u001b[38;5;66;03m#os.getcwd()\u001b[39;00m\n\u001b[1;32m---> 15\u001b[0m name\u001b[38;5;241m=\u001b[39m\u001b[43mname\u001b[49m\u001b[38;5;241;43m.\u001b[39;49m\u001b[43msplit\u001b[49m(\u001b[38;5;124m\"\u001b[39m\u001b[38;5;124m,\u001b[39m\u001b[38;5;124m\"\u001b[39m)\n",
      "\u001b[1;31mAttributeError\u001b[0m: 'list' object has no attribute 'split'"
     ]
    }
   ],
   "source": [
    "import os\n",
    "import glob\n",
    "import pandas as pd\n",
    "import numpy as np\n",
    "from sklearn.cluster import DBSCAN\n",
    "from dotenv import load_dotenv \n",
    "\n",
    "load_dotenv() # add this line\n",
    "name=os.getenv('NAME_')\n",
    "name=name.split(\",\")\n",
    "#path=[r\"C:Blow_nose\",r\"C:Brush_hair\", r\"C:Drink_water\"]\n",
    "df = pd.DataFrame()\n",
    "k = 0\n",
    "#os.getcwd()\n"
   ]
  },
  {
   "cell_type": "markdown",
   "metadata": {},
   "source": [
    "Path es una lista con los nombres de las carpetas con las actividades y debe colocarse el nombre del disco donde se almacena + : + nombre de la actividad. \n",
    "\n",
    "Ejemplo: \n",
    "\n",
    "path=[r\"D:Blow_nose\",r\"D:Brush_hair\", r\"D:Brush_teeth\", r\"Drink_water\",r\"Dusting\",r\"Eat_meal\",r\"Ironing\", r\"Open_a_bottle\", r\"Open_a_box\",r\"Phone_call\",r\"Put_on_a_jacket\",r\"Put_on_a_shoe\",r\"Put_on_glasses\",r\"Salute\",r\"Sit_down\",r\"Sneeze_cough\",r\"Stand_up\",r\"Take_off_a_jacket\",r\"Take_off_a_shoe\",r\"Take_off_glasses\",r\"Type_on_a_keyboard\",r\"Whasing_dishes\",r\"Whasing_hands\",r\"Wrinting\" ]"
   ]
  },
  {
   "cell_type": "code",
   "execution_count": null,
   "metadata": {},
   "outputs": [
    {
     "ename": "FileNotFoundError",
     "evalue": "[WinError 206] El nombre del archivo o la extensión es demasiado largo: 'C:\\\\Program Files\\\\Python39\\\\Scripts\\\\;C:\\\\Program Files\\\\Python39\\\\;C:\\\\Windows\\\\system32;C:\\\\Windows;C:\\\\Windows\\\\System32\\\\Wbem;C:\\\\Windows\\\\System32\\\\WindowsPowerShell\\\\v1.0\\\\;C:\\\\Program Files\\\\nodejs\\\\;C:\\\\Program Files\\\\MATLAB\\\\R2021b\\\\runtime\\\\win64;C:\\\\Program Files\\\\MATLAB\\\\R2021b\\\\bin;C:\\\\Program Files\\\\PuTTY\\\\;C:\\\\Program Files\\\\Git\\\\cmd;C:\\\\Users\\\\Daritza Teheran\\\\AppData\\\\Local\\\\Microsoft\\\\WindowsApps;C:\\\\Users\\\\Daritza Teheran\\\\AppData\\\\Roaming\\\\npm;C:\\\\Users\\\\Daritza Teheran\\\\AppData\\\\Local\\\\Programs\\\\Microsoft VS Code\\\\bin;C:\\\\Users\\\\Daritza Teheran\\\\AppData\\\\Local\\\\GitHubDesktop\\\\bin'",
     "output_type": "error",
     "traceback": [
      "\u001b[1;31m---------------------------------------------------------------------------\u001b[0m",
      "\u001b[1;31mFileNotFoundError\u001b[0m                         Traceback (most recent call last)",
      "Input \u001b[1;32mIn [12]\u001b[0m, in \u001b[0;36m<cell line: 2>\u001b[1;34m()\u001b[0m\n\u001b[0;32m      1\u001b[0m path\u001b[38;5;241m=\u001b[39mos\u001b[38;5;241m.\u001b[39mgetenv(\u001b[38;5;124m'\u001b[39m\u001b[38;5;124mPATH\u001b[39m\u001b[38;5;124m'\u001b[39m)\n\u001b[0;32m      2\u001b[0m \u001b[38;5;28;01mfor\u001b[39;00m p \u001b[38;5;129;01min\u001b[39;00m name:\n\u001b[1;32m----> 3\u001b[0m     \u001b[43mos\u001b[49m\u001b[38;5;241;43m.\u001b[39;49m\u001b[43mchdir\u001b[49m\u001b[43m(\u001b[49m\u001b[43mpath\u001b[49m\u001b[43m)\u001b[49m\n\u001b[0;32m      4\u001b[0m     os\u001b[38;5;241m.\u001b[39mchdir(p)\n\u001b[0;32m      5\u001b[0m     file_extension \u001b[38;5;241m=\u001b[39m \u001b[38;5;124m'\u001b[39m\u001b[38;5;124m.csv\u001b[39m\u001b[38;5;124m'\u001b[39m\n",
      "\u001b[1;31mFileNotFoundError\u001b[0m: [WinError 206] El nombre del archivo o la extensión es demasiado largo: 'C:\\\\Program Files\\\\Python39\\\\Scripts\\\\;C:\\\\Program Files\\\\Python39\\\\;C:\\\\Windows\\\\system32;C:\\\\Windows;C:\\\\Windows\\\\System32\\\\Wbem;C:\\\\Windows\\\\System32\\\\WindowsPowerShell\\\\v1.0\\\\;C:\\\\Program Files\\\\nodejs\\\\;C:\\\\Program Files\\\\MATLAB\\\\R2021b\\\\runtime\\\\win64;C:\\\\Program Files\\\\MATLAB\\\\R2021b\\\\bin;C:\\\\Program Files\\\\PuTTY\\\\;C:\\\\Program Files\\\\Git\\\\cmd;C:\\\\Users\\\\Daritza Teheran\\\\AppData\\\\Local\\\\Microsoft\\\\WindowsApps;C:\\\\Users\\\\Daritza Teheran\\\\AppData\\\\Roaming\\\\npm;C:\\\\Users\\\\Daritza Teheran\\\\AppData\\\\Local\\\\Programs\\\\Microsoft VS Code\\\\bin;C:\\\\Users\\\\Daritza Teheran\\\\AppData\\\\Local\\\\GitHubDesktop\\\\bin'"
     ]
    }
   ],
   "source": [
    "path=os.getenv('PATH_')\n",
    "for p in name:\n",
    "    os.chdir(path)\n",
    "    os.chdir(p)\n",
    "    file_extension = '.csv'\n",
    "    all_filenames = [i for i in glob.glob(f\"*{file_extension}\")]\n",
    "    for f in all_filenames:\n",
    "        temp = pd.read_csv(f, names=['x', 'y', 'z'])\n",
    "        temp['sample'] = k\n",
    "        temp['activity'] = f'{p[2:]}'\n",
    "        df = df.append([temp], ignore_index=True)\n",
    "        k = k + 1\n",
    "V=[]\n",
    "for i in range(k):\n",
    "    sp = df[df['sample']==i]\n",
    "    sp = sp.drop(['activity'], axis=1)\n",
    "    #sp.describe\n",
    "    V.append(sp.values)\n",
    "print(V)\n",
    "#db = DBSCAN(eps=0.3, min_samples=10).fit(V)"
   ]
  },
  {
   "cell_type": "code",
   "execution_count": null,
   "metadata": {},
   "outputs": [],
   "source": [
    "path=os.getenv('PATH')\n",
    "print('Este es el path', path)"
   ]
  }
 ],
 "metadata": {
  "interpreter": {
   "hash": "f42e215734c63c6d245e49a73921e3408e783faf6a42989b31c4a66ab50ad541"
  },
  "kernelspec": {
   "display_name": "Python 3.10.0 64-bit",
   "language": "python",
   "name": "python3"
  },
  "language_info": {
   "codemirror_mode": {
    "name": "ipython",
    "version": 3
   },
   "file_extension": ".py",
   "mimetype": "text/x-python",
   "name": "python",
   "nbconvert_exporter": "python",
   "pygments_lexer": "ipython3",
   "version": "3.9.5"
  },
  "orig_nbformat": 4
 },
 "nbformat": 4,
 "nbformat_minor": 2
}
