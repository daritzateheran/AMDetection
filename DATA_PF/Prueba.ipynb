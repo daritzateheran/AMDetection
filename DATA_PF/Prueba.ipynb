{
 "cells": [
  {
   "cell_type": "code",
   "execution_count": null,
   "metadata": {},
   "outputs": [],
   "source": [
    "import os\n",
    "import glob\n",
    "import pandas as pd\n",
    "import numpy as np\n",
    "from sklearn.cluster import DBSCAN\n",
    "\n",
    "print(os.getcwd())\n",
    "name=os.getenv('NAME')\n",
    "#path=[r\"C:Blow_nose\",r\"C:Brush_hair\", r\"C:Drink_water\"]\n",
    "df = pd.DataFrame()\n",
    "k = 0\n",
    "#os.getcwd()"
   ]
  },
  {
   "cell_type": "markdown",
   "metadata": {},
   "source": [
    "Path es una lista con los nombres de las carpetas con las actividades y debe colocarse el nombre del disco donde se almacena + : + nombre de la actividad. \n",
    "\n",
    "Ejemplo: \n",
    "\n",
    "path=[r\"D:Blow_nose\",r\"D:Brush_hair\", r\"D:Brush_teeth\", r\"Drink_water\",r\"Dusting\",r\"Eat_meal\",r\"Ironing\", r\"Open_a_bottle\", r\"Open_a_box\",r\"Phone_call\",r\"Put_on_a_jacket\",r\"Put_on_a_shoe\",r\"Put_on_glasses\",r\"Salute\",r\"Sit_down\",r\"Sneeze_cough\",r\"Stand_up\",r\"Take_off_a_jacket\",r\"Take_off_a_shoe\",r\"Take_off_glasses\",r\"Type_on_a_keyboard\",r\"Whasing_dishes\",r\"Whasing_hands\",r\"Wrinting\" ]"
   ]
  },
  {
   "cell_type": "code",
   "execution_count": null,
   "metadata": {},
   "outputs": [],
   "source": [
    "path=os.getenv('PATH')\n",
    "for p in name:\n",
    "    os.chdir(path)\n",
    "    os.chdir(p)\n",
    "    file_extension = '.csv'\n",
    "    all_filenames = [i for i in glob.glob(f\"*{file_extension}\")]\n",
    "    for f in all_filenames:\n",
    "        temp = pd.read_csv(f, names=['x', 'y', 'z'])\n",
    "        temp['sample'] = k\n",
    "        temp['activity'] = f'{p[2:]}'\n",
    "        df = df.append([temp], ignore_index=True)\n",
    "        k = k + 1\n",
    "V=[]\n",
    "for i in range(k):\n",
    "    sp = df[df['sample']==i]\n",
    "    sp = sp.drop(['activity'], axis=1)\n",
    "    #sp.describe\n",
    "    V.append(sp.values)\n",
    "print(V)\n",
    "#db = DBSCAN(eps=0.3, min_samples=10).fit(V)"
   ]
  },
  {
   "cell_type": "code",
   "execution_count": 24,
   "metadata": {},
   "outputs": [
    {
     "name": "stdout",
     "output_type": "stream",
     "text": [
      "Este es el path C:\\Users\\HOME\\anaconda3;C:\\Users\\HOME\\anaconda3;C:\\Users\\HOME\\anaconda3\\Library\\mingw-w64\\bin;C:\\Users\\HOME\\anaconda3\\Library\\usr\\bin;C:\\Users\\HOME\\anaconda3\\Library\\bin;C:\\Users\\HOME\\anaconda3\\Scripts;C:\\Users\\HOME\\anaconda3\\bin;C:\\Users\\HOME\\anaconda3\\condabin;C:\\Program Files (x86)\\Common Files\\Oracle\\Java\\javapath;C:\\WINDOWS\\system32;C:\\WINDOWS;C:\\WINDOWS\\System32\\Wbem;C:\\WINDOWS\\System32\\WindowsPowerShell\\v1.0;C:\\WINDOWS\\System32\\OpenSSH;C:\\Program Files\\MATLAB\\R2020b\\bin;C:\\Program Files\\Git\\cmd;C:\\Program Files (x86)\\Common Files\\Oracle\\Java\\javapath;C:\\WINDOWS\\system32;C:\\WINDOWS;C:\\WINDOWS\\System32\\Wbem;C:\\WINDOWS\\System32\\WindowsPowerShell\\v1.0;C:\\WINDOWS\\System32\\OpenSSH;C:\\Program Files\\MATLAB\\R2020b\\bin;C:\\Program Files\\Git\\cmd;C:\\Users\\HOME\\AppData\\Local\\Programs\\Python\\Python310\\Scripts;C:\\Users\\HOME\\AppData\\Local\\Programs\\Python\\Python310;C:\\Users\\HOME\\AppData\\Local\\Microsoft\\WindowsApps;C:\\Users\\HOME\\AppData\\Local\\Programs\\Microsoft VS Code\\bin;C:\\intelFPGA_lite\\19.1\\modelsim_ase\\win32aloem;C:\\Users\\HOME\\anaconda3;C:\\Users\\HOME\\anaconda3\\Scripts;C:\\Users\\HOME\\AppData\\Local\\GitHubDesktop\\bin\n"
     ]
    }
   ],
   "source": [
    "path=os.getenv('PATH')\n",
    "print('Este es el path', path)"
   ]
  }
 ],
 "metadata": {
  "interpreter": {
   "hash": "f42e215734c63c6d245e49a73921e3408e783faf6a42989b31c4a66ab50ad541"
  },
  "kernelspec": {
   "display_name": "Python 3.10.0 64-bit",
   "language": "python",
   "name": "python3"
  },
  "language_info": {
   "codemirror_mode": {
    "name": "ipython",
    "version": 3
   },
   "file_extension": ".py",
   "mimetype": "text/x-python",
   "name": "python",
   "nbconvert_exporter": "python",
   "pygments_lexer": "ipython3",
   "version": "3.8.3"
  },
  "orig_nbformat": 4
 },
 "nbformat": 4,
 "nbformat_minor": 2
}
