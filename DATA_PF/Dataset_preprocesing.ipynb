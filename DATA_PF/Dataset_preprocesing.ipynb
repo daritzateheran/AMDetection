{
 "cells": [
  {
   "cell_type": "code",
   "execution_count": 1,
   "id": "133627fc",
   "metadata": {},
   "outputs": [
    {
     "name": "stdout",
     "output_type": "stream",
     "text": [
      "d:\\Documentos\\GitHub\\AMDetection\\DATA_PF\n"
     ]
    }
   ],
   "source": [
    "import os\n",
    "import glob\n",
    "import pandas as pd\n",
    "import numpy as np\n",
    "\n",
    "print(os.getcwd())\n",
    "path=[r\"D:Blow_nose\",r\"D:Brush_hair\", r\"D:Brush_teeth\", r\"Drink_water\",r\"Dusting\",r\"Eat_meal\",r\"Ironing\", r\"Open_a_bottle\", r\"Open_a_box\",r\"Phone_call\",r\"Put_on_a_jacket\",r\"Put_on_a_shoe\",r\"Put_on_glasses\",r\"Salute\",r\"Sit_down\",r\"Sneeze_cough\",r\"Stand_up\",r\"Take_off_a_jacket\",r\"Take_off_a_shoe\",r\"Take_off_glasses\",r\"Type_on_a_keyboard\",r\"Whasing_dishes\",r\"Whasing_hands\",r\"Wrinting\" ]\n"
   ]
  },
  {
   "cell_type": "code",
   "execution_count": 2,
   "id": "73b94b34",
   "metadata": {},
   "outputs": [
    {
     "ename": "FileNotFoundError",
     "evalue": "[WinError 3] El sistema no puede encontrar la ruta especificada: 'D:\\\\Universidad\\\\DATA_PF'",
     "output_type": "error",
     "traceback": [
      "\u001b[1;31m---------------------------------------------------------------------------\u001b[0m",
      "\u001b[1;31mFileNotFoundError\u001b[0m                         Traceback (most recent call last)",
      "Input \u001b[1;32mIn [2]\u001b[0m, in \u001b[0;36m<cell line: 1>\u001b[1;34m()\u001b[0m\n\u001b[0;32m      1\u001b[0m \u001b[38;5;28;01mfor\u001b[39;00m p \u001b[38;5;129;01min\u001b[39;00m path:\n\u001b[1;32m----> 2\u001b[0m     \u001b[43mos\u001b[49m\u001b[38;5;241;43m.\u001b[39;49m\u001b[43mchdir\u001b[49m\u001b[43m(\u001b[49m\u001b[38;5;124;43mr\u001b[39;49m\u001b[38;5;124;43m\"\u001b[39;49m\u001b[38;5;124;43mD:\u001b[39;49m\u001b[38;5;124;43m\\\u001b[39;49m\u001b[38;5;124;43mUniversidad\u001b[39;49m\u001b[38;5;124;43m\\\u001b[39;49m\u001b[38;5;124;43mDATA_PF\u001b[39;49m\u001b[38;5;124;43m\"\u001b[39;49m\u001b[43m)\u001b[49m\n\u001b[0;32m      3\u001b[0m     os\u001b[38;5;241m.\u001b[39mchdir(p)\n\u001b[0;32m      4\u001b[0m     file_extension \u001b[38;5;241m=\u001b[39m \u001b[38;5;124m'\u001b[39m\u001b[38;5;124m.csv\u001b[39m\u001b[38;5;124m'\u001b[39m\n",
      "\u001b[1;31mFileNotFoundError\u001b[0m: [WinError 3] El sistema no puede encontrar la ruta especificada: 'D:\\\\Universidad\\\\DATA_PF'"
     ]
    }
   ],
   "source": [
    "for p in path:\n",
    "    os.chdir(r\"D:\\Universidad\\DATA_PF\")\n",
    "    os.chdir(p)\n",
    "    file_extension = '.csv'\n",
    "    all_filenames = [i for i in glob.glob(f\"*{file_extension}\")]\n",
    "    \n",
    "    combined_csv_data = pd.DataFrame()\n",
    "    for f in all_filenames:\n",
    "        #print(str(f))\n",
    "        for i in range(len(f)):\n",
    "            try:\n",
    "                int(f[i])\n",
    "                try:\n",
    "                    print(int(f[i]+f[i+1]))\n",
    "                    break\n",
    "                except:\n",
    "                    \"ValueError\"\n",
    "                    print(f[i])\n",
    "                    break\n",
    "                      \n",
    "            except:\n",
    "                \"ValueError\""
   ]
  },
  {
   "cell_type": "code",
   "execution_count": null,
   "id": "985c006f",
   "metadata": {},
   "outputs": [
    {
     "name": "stdout",
     "output_type": "stream",
     "text": [
      "9\n"
     ]
    }
   ],
   "source": [
    "for i in f:\n",
    "    try:\n",
    "        print(int(i))\n",
    "        break\n",
    "    except:\n",
    "        \"ValueError\"\n",
    "        "
   ]
  },
  {
   "cell_type": "code",
   "execution_count": null,
   "id": "e50e9e87",
   "metadata": {},
   "outputs": [
    {
     "data": {
      "text/plain": [
       "'writing_9_4.csv'"
      ]
     },
     "execution_count": 36,
     "metadata": {},
     "output_type": "execute_result"
    }
   ],
   "source": [
    "f"
   ]
  }
 ],
 "metadata": {
  "kernelspec": {
   "display_name": "Python 3 (ipykernel)",
   "language": "python",
   "name": "python3"
  },
  "language_info": {
   "codemirror_mode": {
    "name": "ipython",
    "version": 3
   },
   "file_extension": ".py",
   "mimetype": "text/x-python",
   "name": "python",
   "nbconvert_exporter": "python",
   "pygments_lexer": "ipython3",
   "version": "3.9.5"
  }
 },
 "nbformat": 4,
 "nbformat_minor": 5
}
